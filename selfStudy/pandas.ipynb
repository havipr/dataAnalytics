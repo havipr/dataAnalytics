{
 "cells": [
  {
   "cell_type": "code",
   "execution_count": 23,
   "metadata": {},
   "outputs": [],
   "source": [
    "import pandas as pd\n",
    "import numpy as np"
   ]
  },
  {
   "cell_type": "code",
   "execution_count": 3,
   "metadata": {},
   "outputs": [
    {
     "data": {
      "text/plain": [
       "1      Navas\n",
       "7      NBape\n",
       "10    Neymar\n",
       "30     Messi\n",
       "dtype: object"
      ]
     },
     "execution_count": 3,
     "metadata": {},
     "output_type": "execute_result"
    }
   ],
   "source": [
    "psg_players = pd.Series(['Navas','NBape','Neymar','Messi'],\n",
    "           index=[1,7,10,30]\n",
    "         )\n",
    "\n",
    "psg_players"
   ]
  },
  {
   "cell_type": "code",
   "execution_count": 7,
   "metadata": {},
   "outputs": [],
   "source": [
    "#Define the pandas series with a dictionary \n",
    "dic = {1:'Navas',7:'NBape',10:'Neymar',30:'Messi'}\n",
    "new_team = pd.Series(dic)"
   ]
  },
  {
   "cell_type": "code",
   "execution_count": 8,
   "metadata": {},
   "outputs": [
    {
     "data": {
      "text/plain": [
       "1      Navas\n",
       "7      NBape\n",
       "10    Neymar\n",
       "dtype: object"
      ]
     },
     "execution_count": 8,
     "metadata": {},
     "output_type": "execute_result"
    }
   ],
   "source": [
    "new_team[0:3]"
   ]
  },
  {
   "cell_type": "code",
   "execution_count": 9,
   "metadata": {},
   "outputs": [],
   "source": [
    "best_players = {'player':['Navas','Mbappe','Neymar','Messi'],\n",
    " 'height':[183,190,180,170],\n",
    " 'goal':[2,200,200,200]\n",
    "}"
   ]
  },
  {
   "cell_type": "code",
   "execution_count": 14,
   "metadata": {},
   "outputs": [
    {
     "data": {
      "text/html": [
       "<div>\n",
       "<style scoped>\n",
       "    .dataframe tbody tr th:only-of-type {\n",
       "        vertical-align: middle;\n",
       "    }\n",
       "\n",
       "    .dataframe tbody tr th {\n",
       "        vertical-align: top;\n",
       "    }\n",
       "\n",
       "    .dataframe thead th {\n",
       "        text-align: right;\n",
       "    }\n",
       "</style>\n",
       "<table border=\"1\" class=\"dataframe\">\n",
       "  <thead>\n",
       "    <tr style=\"text-align: right;\">\n",
       "      <th></th>\n",
       "      <th>player</th>\n",
       "      <th>height</th>\n",
       "      <th>goal</th>\n",
       "    </tr>\n",
       "  </thead>\n",
       "  <tbody>\n",
       "    <tr>\n",
       "      <th>0</th>\n",
       "      <td>Navas</td>\n",
       "      <td>183</td>\n",
       "      <td>2</td>\n",
       "    </tr>\n",
       "    <tr>\n",
       "      <th>1</th>\n",
       "      <td>Mbappe</td>\n",
       "      <td>190</td>\n",
       "      <td>200</td>\n",
       "    </tr>\n",
       "    <tr>\n",
       "      <th>2</th>\n",
       "      <td>Neymar</td>\n",
       "      <td>180</td>\n",
       "      <td>200</td>\n",
       "    </tr>\n",
       "    <tr>\n",
       "      <th>3</th>\n",
       "      <td>Messi</td>\n",
       "      <td>170</td>\n",
       "      <td>200</td>\n",
       "    </tr>\n",
       "  </tbody>\n",
       "</table>\n",
       "</div>"
      ],
      "text/plain": [
       "   player  height  goal\n",
       "0   Navas     183     2\n",
       "1  Mbappe     190   200\n",
       "2  Neymar     180   200\n",
       "3   Messi     170   200"
      ]
     },
     "execution_count": 14,
     "metadata": {},
     "output_type": "execute_result"
    }
   ],
   "source": [
    "#Difine my data frame without index \n",
    "pd.DataFrame(best_players)"
   ]
  },
  {
   "cell_type": "code",
   "execution_count": 20,
   "metadata": {},
   "outputs": [],
   "source": [
    "#difine data frame with my own index \n",
    "df_players = pd.DataFrame(best_players, index=[1,7,10,30])"
   ]
  },
  {
   "cell_type": "code",
   "execution_count": 21,
   "metadata": {},
   "outputs": [
    {
     "data": {
      "text/plain": [
       "Index(['player', 'height', 'goal'], dtype='object')"
      ]
     },
     "execution_count": 21,
     "metadata": {},
     "output_type": "execute_result"
    }
   ],
   "source": [
    "#check colums\n",
    "df_players.columns"
   ]
  },
  {
   "cell_type": "code",
   "execution_count": 22,
   "metadata": {},
   "outputs": [
    {
     "data": {
      "text/plain": [
       "Int64Index([1, 7, 10, 30], dtype='int64')"
      ]
     },
     "execution_count": 22,
     "metadata": {},
     "output_type": "execute_result"
    }
   ],
   "source": [
    "#check index\n",
    "df_players.index"
   ]
  },
  {
   "cell_type": "markdown",
   "metadata": {},
   "source": [
    "OPEN FILES"
   ]
  },
  {
   "cell_type": "code",
   "execution_count": 34,
   "metadata": {},
   "outputs": [
    {
     "data": {
      "text/plain": [
       "Index(['Nameeeeee', 'Author', 'User Rating', 'Reviews', 'Price', 'Year',\n",
       "       'Genre'],\n",
       "      dtype='object')"
      ]
     },
     "execution_count": 34,
     "metadata": {},
     "output_type": "execute_result"
    }
   ],
   "source": [
    "df_books = pd.read_csv('', sep=',', header=0, names=['Nameeeeee', 'Author', 'User Rating', 'Reviews', 'Price', 'Year', 'Genre'])\n",
    "df_books.columns"
   ]
  },
  {
   "cell_type": "code",
   "execution_count": 38,
   "metadata": {},
   "outputs": [
    {
     "data": {
      "text/html": [
       "<div>\n",
       "<style scoped>\n",
       "    .dataframe tbody tr th:only-of-type {\n",
       "        vertical-align: middle;\n",
       "    }\n",
       "\n",
       "    .dataframe tbody tr th {\n",
       "        vertical-align: top;\n",
       "    }\n",
       "\n",
       "    .dataframe thead th {\n",
       "        text-align: right;\n",
       "    }\n",
       "</style>\n",
       "<table border=\"1\" class=\"dataframe\">\n",
       "  <thead>\n",
       "    <tr style=\"text-align: right;\">\n",
       "      <th></th>\n",
       "      <th>Name</th>\n",
       "      <th>Link</th>\n",
       "      <th>Descr</th>\n",
       "      <th>Gender</th>\n",
       "      <th>Species/Race</th>\n",
       "      <th>Blood</th>\n",
       "      <th>School</th>\n",
       "      <th>Profession</th>\n",
       "    </tr>\n",
       "  </thead>\n",
       "  <tbody>\n",
       "    <tr>\n",
       "      <th>0</th>\n",
       "      <td>Mrs. Abbott</td>\n",
       "      <td>https://www.hp-lexicon.org/character/abbott-fa...</td>\n",
       "      <td>Mrs. Abbott was the mother of Hannah Abbott, a...</td>\n",
       "      <td>Female</td>\n",
       "      <td>Witch</td>\n",
       "      <td>Muggle-born</td>\n",
       "      <td>Unknown</td>\n",
       "      <td>Unknown</td>\n",
       "    </tr>\n",
       "    <tr>\n",
       "      <th>1</th>\n",
       "      <td>Hannah Abbott</td>\n",
       "      <td>https://www.hp-lexicon.org/character/abbott-fa...</td>\n",
       "      <td>Hannah Abbott is a Hufflepuff student in Harry...</td>\n",
       "      <td>Female</td>\n",
       "      <td>Witch</td>\n",
       "      <td>Half-blood</td>\n",
       "      <td>Hogwarts - Hufflepuff</td>\n",
       "      <td>Landlady of the Leaky Cauldron</td>\n",
       "    </tr>\n",
       "    <tr>\n",
       "      <th>2</th>\n",
       "      <td>Abel Treetops</td>\n",
       "      <td>https://www.hp-lexicon.org/character/abel-tree...</td>\n",
       "      <td>Abel Treetops was a wizard from Cincinnati who...</td>\n",
       "      <td>Male</td>\n",
       "      <td>Wizard</td>\n",
       "      <td>Unknown</td>\n",
       "      <td>Unknown</td>\n",
       "      <td>Unknown</td>\n",
       "    </tr>\n",
       "    <tr>\n",
       "      <th>3</th>\n",
       "      <td>Euan Abercrombie</td>\n",
       "      <td>https://www.hp-lexicon.org/character/abercromb...</td>\n",
       "      <td>Euan Abercrombie was a small boy with prominen...</td>\n",
       "      <td>Male</td>\n",
       "      <td>Wizard</td>\n",
       "      <td>Unknown</td>\n",
       "      <td>Hogwarts - Gryffindor</td>\n",
       "      <td>Unknown</td>\n",
       "    </tr>\n",
       "    <tr>\n",
       "      <th>4</th>\n",
       "      <td>Aberforth Dumbledore</td>\n",
       "      <td>https://www.hp-lexicon.org/character/dumbledor...</td>\n",
       "      <td>Aberforth Dumbledore was a tall, thin, grumpy-...</td>\n",
       "      <td>Male</td>\n",
       "      <td>Wizard</td>\n",
       "      <td>Half-blood</td>\n",
       "      <td>Hogwarts - Student</td>\n",
       "      <td>Barman</td>\n",
       "    </tr>\n",
       "    <tr>\n",
       "      <th>...</th>\n",
       "      <td>...</td>\n",
       "      <td>...</td>\n",
       "      <td>...</td>\n",
       "      <td>...</td>\n",
       "      <td>...</td>\n",
       "      <td>...</td>\n",
       "      <td>...</td>\n",
       "      <td>...</td>\n",
       "    </tr>\n",
       "    <tr>\n",
       "      <th>1935</th>\n",
       "      <td>Georgi Zdravko</td>\n",
       "      <td>https://www.hp-lexicon.org/character/georgi-zd...</td>\n",
       "      <td>Georgi Zdravko played Keeper for the Bulgarian...</td>\n",
       "      <td>Male</td>\n",
       "      <td>Wizard</td>\n",
       "      <td>Unknown</td>\n",
       "      <td>Unknown</td>\n",
       "      <td>Quidditch player (Seeker)</td>\n",
       "    </tr>\n",
       "    <tr>\n",
       "      <th>1936</th>\n",
       "      <td>Zograf</td>\n",
       "      <td>https://www.hp-lexicon.org/character/zograf/</td>\n",
       "      <td>Zograf played Keeper for the Bulgarian Nationa...</td>\n",
       "      <td>NaN</td>\n",
       "      <td>Wizard</td>\n",
       "      <td>Unknown</td>\n",
       "      <td>Unknown</td>\n",
       "      <td>Quidditch player (Keeper)</td>\n",
       "    </tr>\n",
       "    <tr>\n",
       "      <th>1937</th>\n",
       "      <td>Zonko</td>\n",
       "      <td>https://www.hp-lexicon.org/character/zonko/</td>\n",
       "      <td>Founder(?) of Zonko’s Joke Shop. Possibly a re...</td>\n",
       "      <td>NaN</td>\n",
       "      <td>Unknown</td>\n",
       "      <td>Unknown</td>\n",
       "      <td>Unknown</td>\n",
       "      <td>Unknown</td>\n",
       "    </tr>\n",
       "    <tr>\n",
       "      <th>1938</th>\n",
       "      <td>Valentina Vázquez</td>\n",
       "      <td>https://www.hp-lexicon.org/character/valentina...</td>\n",
       "      <td>Valentina Vázquez was President of the Argenti...</td>\n",
       "      <td>Female</td>\n",
       "      <td>Witch</td>\n",
       "      <td>Unknown</td>\n",
       "      <td>Unknown</td>\n",
       "      <td>President of the Argentinian Council of Magic</td>\n",
       "    </tr>\n",
       "    <tr>\n",
       "      <th>1939</th>\n",
       "      <td>Zygmunt Budge</td>\n",
       "      <td>https://www.hp-lexicon.org/character/zygmunt-b...</td>\n",
       "      <td>Zygmunt Budge is considered to be one of the m...</td>\n",
       "      <td>Male</td>\n",
       "      <td>Wizard</td>\n",
       "      <td>Unknown</td>\n",
       "      <td>Hogwarts - Student</td>\n",
       "      <td>Potions Master, Potioneer, Inventor, Author</td>\n",
       "    </tr>\n",
       "  </tbody>\n",
       "</table>\n",
       "<p>1940 rows × 8 columns</p>\n",
       "</div>"
      ],
      "text/plain": [
       "                      Name                                               Link  \\\n",
       "0              Mrs. Abbott  https://www.hp-lexicon.org/character/abbott-fa...   \n",
       "1            Hannah Abbott  https://www.hp-lexicon.org/character/abbott-fa...   \n",
       "2            Abel Treetops  https://www.hp-lexicon.org/character/abel-tree...   \n",
       "3         Euan Abercrombie  https://www.hp-lexicon.org/character/abercromb...   \n",
       "4     Aberforth Dumbledore  https://www.hp-lexicon.org/character/dumbledor...   \n",
       "...                    ...                                                ...   \n",
       "1935        Georgi Zdravko  https://www.hp-lexicon.org/character/georgi-zd...   \n",
       "1936                Zograf       https://www.hp-lexicon.org/character/zograf/   \n",
       "1937                 Zonko        https://www.hp-lexicon.org/character/zonko/   \n",
       "1938     Valentina Vázquez  https://www.hp-lexicon.org/character/valentina...   \n",
       "1939         Zygmunt Budge  https://www.hp-lexicon.org/character/zygmunt-b...   \n",
       "\n",
       "                                                  Descr  Gender Species/Race  \\\n",
       "0     Mrs. Abbott was the mother of Hannah Abbott, a...  Female        Witch   \n",
       "1     Hannah Abbott is a Hufflepuff student in Harry...  Female        Witch   \n",
       "2     Abel Treetops was a wizard from Cincinnati who...    Male       Wizard   \n",
       "3     Euan Abercrombie was a small boy with prominen...    Male       Wizard   \n",
       "4     Aberforth Dumbledore was a tall, thin, grumpy-...    Male       Wizard   \n",
       "...                                                 ...     ...          ...   \n",
       "1935  Georgi Zdravko played Keeper for the Bulgarian...    Male       Wizard   \n",
       "1936  Zograf played Keeper for the Bulgarian Nationa...     NaN       Wizard   \n",
       "1937  Founder(?) of Zonko’s Joke Shop. Possibly a re...     NaN      Unknown   \n",
       "1938  Valentina Vázquez was President of the Argenti...  Female        Witch   \n",
       "1939  Zygmunt Budge is considered to be one of the m...    Male       Wizard   \n",
       "\n",
       "            Blood                 School  \\\n",
       "0     Muggle-born                Unknown   \n",
       "1      Half-blood  Hogwarts - Hufflepuff   \n",
       "2         Unknown                Unknown   \n",
       "3         Unknown  Hogwarts - Gryffindor   \n",
       "4      Half-blood     Hogwarts - Student   \n",
       "...           ...                    ...   \n",
       "1935      Unknown                Unknown   \n",
       "1936      Unknown                Unknown   \n",
       "1937      Unknown                Unknown   \n",
       "1938      Unknown                Unknown   \n",
       "1939      Unknown     Hogwarts - Student   \n",
       "\n",
       "                                         Profession  \n",
       "0                                           Unknown  \n",
       "1                    Landlady of the Leaky Cauldron  \n",
       "2                                           Unknown  \n",
       "3                                           Unknown  \n",
       "4                                            Barman  \n",
       "...                                             ...  \n",
       "1935                      Quidditch player (Seeker)  \n",
       "1936                      Quidditch player (Keeper)  \n",
       "1937                                        Unknown  \n",
       "1938  President of the Argentinian Council of Magic  \n",
       "1939    Potions Master, Potioneer, Inventor, Author  \n",
       "\n",
       "[1940 rows x 8 columns]"
      ]
     },
     "execution_count": 38,
     "metadata": {},
     "output_type": "execute_result"
    }
   ],
   "source": [
    "pd.read_json('')"
   ]
  },
  {
   "cell_type": "markdown",
   "metadata": {},
   "source": [
    "Loc"
   ]
  },
  {
   "cell_type": "code",
   "execution_count": 44,
   "metadata": {},
   "outputs": [
    {
     "data": {
      "text/html": [
       "<div>\n",
       "<style scoped>\n",
       "    .dataframe tbody tr th:only-of-type {\n",
       "        vertical-align: middle;\n",
       "    }\n",
       "\n",
       "    .dataframe tbody tr th {\n",
       "        vertical-align: top;\n",
       "    }\n",
       "\n",
       "    .dataframe thead th {\n",
       "        text-align: right;\n",
       "    }\n",
       "</style>\n",
       "<table border=\"1\" class=\"dataframe\">\n",
       "  <thead>\n",
       "    <tr style=\"text-align: right;\">\n",
       "      <th></th>\n",
       "      <th>Nameeeeee</th>\n",
       "      <th>Author</th>\n",
       "    </tr>\n",
       "  </thead>\n",
       "  <tbody>\n",
       "    <tr>\n",
       "      <th>0</th>\n",
       "      <td>10-Day Green Smoothie Cleanse</td>\n",
       "      <td>JJ Smith</td>\n",
       "    </tr>\n",
       "    <tr>\n",
       "      <th>1</th>\n",
       "      <td>11/22/63: A Novel</td>\n",
       "      <td>Stephen King</td>\n",
       "    </tr>\n",
       "    <tr>\n",
       "      <th>2</th>\n",
       "      <td>12 Rules for Life: An Antidote to Chaos</td>\n",
       "      <td>Jordan B. Peterson</td>\n",
       "    </tr>\n",
       "    <tr>\n",
       "      <th>3</th>\n",
       "      <td>1984 (Signet Classics)</td>\n",
       "      <td>George Orwell</td>\n",
       "    </tr>\n",
       "    <tr>\n",
       "      <th>4</th>\n",
       "      <td>5,000 Awesome Facts (About Everything!) (Natio...</td>\n",
       "      <td>National Geographic Kids</td>\n",
       "    </tr>\n",
       "  </tbody>\n",
       "</table>\n",
       "</div>"
      ],
      "text/plain": [
       "                                           Nameeeeee                    Author\n",
       "0                      10-Day Green Smoothie Cleanse                  JJ Smith\n",
       "1                                  11/22/63: A Novel              Stephen King\n",
       "2            12 Rules for Life: An Antidote to Chaos        Jordan B. Peterson\n",
       "3                             1984 (Signet Classics)             George Orwell\n",
       "4  5,000 Awesome Facts (About Everything!) (Natio...  National Geographic Kids"
      ]
     },
     "execution_count": 44,
     "metadata": {},
     "output_type": "execute_result"
    }
   ],
   "source": [
    "#the las position is included\n",
    "df_books.loc[0:4, ['Nameeeeee', 'Author']]"
   ]
  },
  {
   "cell_type": "code",
   "execution_count": 45,
   "metadata": {},
   "outputs": [
    {
     "data": {
      "text/html": [
       "<div>\n",
       "<style scoped>\n",
       "    .dataframe tbody tr th:only-of-type {\n",
       "        vertical-align: middle;\n",
       "    }\n",
       "\n",
       "    .dataframe tbody tr th {\n",
       "        vertical-align: top;\n",
       "    }\n",
       "\n",
       "    .dataframe thead th {\n",
       "        text-align: right;\n",
       "    }\n",
       "</style>\n",
       "<table border=\"1\" class=\"dataframe\">\n",
       "  <thead>\n",
       "    <tr style=\"text-align: right;\">\n",
       "      <th></th>\n",
       "      <th>Author</th>\n",
       "    </tr>\n",
       "  </thead>\n",
       "  <tbody>\n",
       "    <tr>\n",
       "      <th>0</th>\n",
       "      <td>True</td>\n",
       "    </tr>\n",
       "    <tr>\n",
       "      <th>1</th>\n",
       "      <td>False</td>\n",
       "    </tr>\n",
       "    <tr>\n",
       "      <th>2</th>\n",
       "      <td>False</td>\n",
       "    </tr>\n",
       "    <tr>\n",
       "      <th>3</th>\n",
       "      <td>False</td>\n",
       "    </tr>\n",
       "    <tr>\n",
       "      <th>4</th>\n",
       "      <td>False</td>\n",
       "    </tr>\n",
       "    <tr>\n",
       "      <th>...</th>\n",
       "      <td>...</td>\n",
       "    </tr>\n",
       "    <tr>\n",
       "      <th>545</th>\n",
       "      <td>False</td>\n",
       "    </tr>\n",
       "    <tr>\n",
       "      <th>546</th>\n",
       "      <td>False</td>\n",
       "    </tr>\n",
       "    <tr>\n",
       "      <th>547</th>\n",
       "      <td>False</td>\n",
       "    </tr>\n",
       "    <tr>\n",
       "      <th>548</th>\n",
       "      <td>False</td>\n",
       "    </tr>\n",
       "    <tr>\n",
       "      <th>549</th>\n",
       "      <td>False</td>\n",
       "    </tr>\n",
       "  </tbody>\n",
       "</table>\n",
       "<p>550 rows × 1 columns</p>\n",
       "</div>"
      ],
      "text/plain": [
       "     Author\n",
       "0      True\n",
       "1     False\n",
       "2     False\n",
       "3     False\n",
       "4     False\n",
       "..      ...\n",
       "545   False\n",
       "546   False\n",
       "547   False\n",
       "548   False\n",
       "549   False\n",
       "\n",
       "[550 rows x 1 columns]"
      ]
     },
     "execution_count": 45,
     "metadata": {},
     "output_type": "execute_result"
    }
   ],
   "source": [
    "#serch with condition \n",
    "df_books.loc[:, ['Author']] == 'JJ Smith'"
   ]
  },
  {
   "cell_type": "markdown",
   "metadata": {},
   "source": [
    "ILOC \n",
    "Seach for index "
   ]
  },
  {
   "cell_type": "code",
   "execution_count": null,
   "metadata": {},
   "outputs": [],
   "source": []
  },
  {
   "cell_type": "code",
   "execution_count": 52,
   "metadata": {},
   "outputs": [
    {
     "data": {
      "text/html": [
       "<div>\n",
       "<style scoped>\n",
       "    .dataframe tbody tr th:only-of-type {\n",
       "        vertical-align: middle;\n",
       "    }\n",
       "\n",
       "    .dataframe tbody tr th {\n",
       "        vertical-align: top;\n",
       "    }\n",
       "\n",
       "    .dataframe thead th {\n",
       "        text-align: right;\n",
       "    }\n",
       "</style>\n",
       "<table border=\"1\" class=\"dataframe\">\n",
       "  <thead>\n",
       "    <tr style=\"text-align: right;\">\n",
       "      <th></th>\n",
       "      <th>Nameeeeee</th>\n",
       "      <th>Author</th>\n",
       "      <th>User Rating</th>\n",
       "      <th>Reviews</th>\n",
       "      <th>Price</th>\n",
       "      <th>Year</th>\n",
       "      <th>Genre</th>\n",
       "    </tr>\n",
       "  </thead>\n",
       "  <tbody>\n",
       "    <tr>\n",
       "      <th>0</th>\n",
       "      <td>10-Day Green Smoothie Cleanse</td>\n",
       "      <td>JJ Smith</td>\n",
       "      <td>4.7</td>\n",
       "      <td>17350</td>\n",
       "      <td>8</td>\n",
       "      <td>2016</td>\n",
       "      <td>Non Fiction</td>\n",
       "    </tr>\n",
       "    <tr>\n",
       "      <th>1</th>\n",
       "      <td>11/22/63: A Novel</td>\n",
       "      <td>Stephen King</td>\n",
       "      <td>4.6</td>\n",
       "      <td>2052</td>\n",
       "      <td>22</td>\n",
       "      <td>2011</td>\n",
       "      <td>Fiction</td>\n",
       "    </tr>\n",
       "    <tr>\n",
       "      <th>2</th>\n",
       "      <td>12 Rules for Life: An Antidote to Chaos</td>\n",
       "      <td>Jordan B. Peterson</td>\n",
       "      <td>4.7</td>\n",
       "      <td>18979</td>\n",
       "      <td>15</td>\n",
       "      <td>2018</td>\n",
       "      <td>Non Fiction</td>\n",
       "    </tr>\n",
       "    <tr>\n",
       "      <th>3</th>\n",
       "      <td>1984 (Signet Classics)</td>\n",
       "      <td>George Orwell</td>\n",
       "      <td>4.7</td>\n",
       "      <td>21424</td>\n",
       "      <td>6</td>\n",
       "      <td>2017</td>\n",
       "      <td>Fiction</td>\n",
       "    </tr>\n",
       "  </tbody>\n",
       "</table>\n",
       "</div>"
      ],
      "text/plain": [
       "                                 Nameeeeee              Author  User Rating  \\\n",
       "0            10-Day Green Smoothie Cleanse            JJ Smith          4.7   \n",
       "1                        11/22/63: A Novel        Stephen King          4.6   \n",
       "2  12 Rules for Life: An Antidote to Chaos  Jordan B. Peterson          4.7   \n",
       "3                   1984 (Signet Classics)       George Orwell          4.7   \n",
       "\n",
       "   Reviews  Price  Year        Genre  \n",
       "0    17350      8  2016  Non Fiction  \n",
       "1     2052     22  2011      Fiction  \n",
       "2    18979     15  2018  Non Fiction  \n",
       "3    21424      6  2017      Fiction  "
      ]
     },
     "execution_count": 52,
     "metadata": {},
     "output_type": "execute_result"
    }
   ],
   "source": [
    "df_books.loc[:3]"
   ]
  },
  {
   "cell_type": "code",
   "execution_count": 51,
   "metadata": {},
   "outputs": [
    {
     "data": {
      "text/html": [
       "<div>\n",
       "<style scoped>\n",
       "    .dataframe tbody tr th:only-of-type {\n",
       "        vertical-align: middle;\n",
       "    }\n",
       "\n",
       "    .dataframe tbody tr th {\n",
       "        vertical-align: top;\n",
       "    }\n",
       "\n",
       "    .dataframe thead th {\n",
       "        text-align: right;\n",
       "    }\n",
       "</style>\n",
       "<table border=\"1\" class=\"dataframe\">\n",
       "  <thead>\n",
       "    <tr style=\"text-align: right;\">\n",
       "      <th></th>\n",
       "      <th>Nameeeeee</th>\n",
       "      <th>Author</th>\n",
       "      <th>User Rating</th>\n",
       "    </tr>\n",
       "  </thead>\n",
       "  <tbody>\n",
       "    <tr>\n",
       "      <th>0</th>\n",
       "      <td>10-Day Green Smoothie Cleanse</td>\n",
       "      <td>JJ Smith</td>\n",
       "      <td>4.7</td>\n",
       "    </tr>\n",
       "    <tr>\n",
       "      <th>1</th>\n",
       "      <td>11/22/63: A Novel</td>\n",
       "      <td>Stephen King</td>\n",
       "      <td>4.6</td>\n",
       "    </tr>\n",
       "    <tr>\n",
       "      <th>2</th>\n",
       "      <td>12 Rules for Life: An Antidote to Chaos</td>\n",
       "      <td>Jordan B. Peterson</td>\n",
       "      <td>4.7</td>\n",
       "    </tr>\n",
       "  </tbody>\n",
       "</table>\n",
       "</div>"
      ],
      "text/plain": [
       "                                 Nameeeeee              Author  User Rating\n",
       "0            10-Day Green Smoothie Cleanse            JJ Smith          4.7\n",
       "1                        11/22/63: A Novel        Stephen King          4.6\n",
       "2  12 Rules for Life: An Antidote to Chaos  Jordan B. Peterson          4.7"
      ]
     },
     "execution_count": 51,
     "metadata": {},
     "output_type": "execute_result"
    }
   ],
   "source": [
    "df_books.iloc[:3,0:3]\n",
    "            #[rows,colums]"
   ]
  }
 ],
 "metadata": {
  "kernelspec": {
   "display_name": "Python 3.8.5 ('base': conda)",
   "language": "python",
   "name": "python3"
  },
  "language_info": {
   "codemirror_mode": {
    "name": "ipython",
    "version": 3
   },
   "file_extension": ".py",
   "mimetype": "text/x-python",
   "name": "python",
   "nbconvert_exporter": "python",
   "pygments_lexer": "ipython3",
   "version": "3.8.5"
  },
  "vscode": {
   "interpreter": {
    "hash": "b8b5a6894551d37c02e7098f5cfeb1260c7bf304f89da81c7059abba41f424c0"
   }
  }
 },
 "nbformat": 4,
 "nbformat_minor": 4
}
